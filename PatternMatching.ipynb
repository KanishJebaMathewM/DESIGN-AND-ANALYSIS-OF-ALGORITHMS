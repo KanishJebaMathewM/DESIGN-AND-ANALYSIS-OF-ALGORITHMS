{
 "cells": [
  {
   "cell_type": "code",
   "execution_count": 1,
   "id": "a5060c89-ad03-497d-9b89-2041febb8be8",
   "metadata": {},
   "outputs": [],
   "source": [
    "import matplotlib.pyplot as plt\n"
   ]
  },
  {
   "cell_type": "code",
   "execution_count": 2,
   "id": "3015ee46-d690-4e40-af92-c35af45ac55b",
   "metadata": {},
   "outputs": [],
   "source": [
    "def search(pat, txt):\n",
    "    m = len(pat)\n",
    "    n = len(txt)\n",
    "    match_positions = []\n",
    "\n",
    "    for i in range(n - m + 1):\n",
    "        match = True\n",
    "        for j in range(m):\n",
    "            if txt[i + j] != pat[j]:\n",
    "                match = False\n",
    "                break\n",
    "        if match:\n",
    "            match_positions.append(i)\n",
    "\n",
    "    return match_positions\n"
   ]
  },
  {
   "cell_type": "code",
   "execution_count": 3,
   "id": "e39986f3-7838-4dbd-98e1-a0fbe222f381",
   "metadata": {},
   "outputs": [],
   "source": [
    "def visualize_matches(txt, pat, matches):\n",
    "    plt.figure(figsize=(10, 1.5))\n",
    "    plt.title(f\"Pattern '{pat}' in Text\")\n",
    "    plt.xlabel(\"Text Index\")\n",
    "    plt.yticks([])\n",
    "\n",
    "    # Plot all text as faded dots\n",
    "    plt.plot(range(len(txt)), [1]*len(txt), 'o', color='gray', alpha=0.3, label='Text Characters')\n",
    "\n",
    "    # Highlight matched pattern occurrences\n",
    "    for i, pos in enumerate(matches):\n",
    "        plt.plot(range(pos, pos + len(pat)), [1]*len(pat), 'ro', label='Pattern Match' if i == 0 else \"\")\n",
    "        plt.text(pos, 1.05, f\"{pos}\", fontsize=9, ha='center', va='bottom')\n",
    "\n",
    "    plt.legend()\n",
    "    plt.tight_layout()\n",
    "    plt.show()\n"
   ]
  },
  {
   "cell_type": "code",
   "execution_count": 4,
   "id": "b6e3d5ff-67d4-4bdb-b8a0-b3e65203eddd",
   "metadata": {},
   "outputs": [
    {
     "name": "stdin",
     "output_type": "stream",
     "text": [
      "Enter the text:  Hello\n",
      "Enter the pattern to search:  llo\n"
     ]
    },
    {
     "name": "stdout",
     "output_type": "stream",
     "text": [
      "\n",
      "Pattern found at positions: [2]\n"
     ]
    },
    {
     "data": {
      "image/png": "[encoded data removed]",
      "text/plain": [
       "<Figure size 1000x150 with 1 Axes>"
      ]
     },
     "metadata": {},
     "output_type": "display_data"
    }
   ],
   "source": [
    "# Get input from user\n",
    "txt = input(\"Enter the text: \")\n",
    "pat = input(\"Enter the pattern to search: \")\n",
    "\n",
    "# Search and show output\n",
    "matches = search(pat, txt)\n",
    "\n",
    "# Print and visualize\n",
    "if matches:\n",
    "    print(f\"\\nPattern found at positions: {matches}\")\n",
    "    visualize_matches(txt, pat, matches)\n",
    "else:\n",
    "    print(\"\\nPattern not found in the given text.\")\n"
   ]
  },
  {
   "cell_type": "code",
   "execution_count": null,
   "id": "81152ba5-7755-4b0d-abec-e9d4b7fe8b25",
   "metadata": {},
   "outputs": [],
   "source": []
  }
 ],
 "metadata": {
  "kernelspec": {
   "display_name": "Python 3 (ipykernel)",
   "language": "python",
   "name": "python3"
  },
  "language_info": {
   "codemirror_mode": {
    "name": "ipython",
    "version": 3
   },
   "file_extension": ".py",
   "mimetype": "text/x-python",
   "name": "python",
   "nbconvert_exporter": "python",
   "pygments_lexer": "ipython3",
   "version": "3.13.5"
  }
 },
 "nbformat": 4,
 "nbformat_minor": 5
}
